{
 "cells": [
  {
   "cell_type": "markdown",
   "id": "a6fea2cf-828b-487f-8c54-9e382e24e9c0",
   "metadata": {},
   "source": [
    "# Hollywood Theatrical Market Synopsis 1995 to 2021\n",
    "\n",
    "-- North American domestic movies theatrical market synopsis\n",
    "\n",
    "All movies released since 1995 are categorized according to the following attributes: Creative type (factual, contemporary fiction, fantasy etc.), Source (book, play, original screenplay etc.), Genre (drama, horror, documentary etc.), MPAA rating, Production method (live action, digital animation etc.) and Distributor. In order to provide a fair comparison between movies released in different years, all rankings are based on ticket sales, which are calculated using average ticket prices announced by the MPAA in their annual state of the industry report\n",
    "\n",
    "Dataset showing the exponential growth of box office collections as well as ticket sales over time (and the decline after 2020 due to the Covid-19 pandemic) indirectly indicating the quality of modern day films. This Dataset can also be used to study the genres which attract audience the most and encourage one to create an amazing genre specific plot in order to take one step closer to becoming the next most successful director!\n",
    "\n",
    "\n",
    "Source: https://www.kaggle.com/johnharshith/hollywood-theatrical-market-synopsis-1995-to-2021\n"
   ]
  },
  {
   "cell_type": "code",
   "execution_count": 24,
   "id": "0b220832-cce7-4b90-ac50-7a1da2af8f17",
   "metadata": {},
   "outputs": [],
   "source": [
    "import pandas as pd\n",
    "import matplotlib.pyplot as plt\n",
    "import seaborn as sns\n",
    "import numpy as np"
   ]
  },
  {
   "cell_type": "code",
   "execution_count": 2,
   "id": "ec086f95-ad6d-4dea-a72b-e02e7f0e516f",
   "metadata": {},
   "outputs": [],
   "source": [
    "# Tickets sold per year\n",
    "TicketSales = pd.read_csv('AnnualTicketSales.csv')\n",
    "# Top movies per year\n",
    "HighestGross = pd.read_csv('HighestGrossers.csv')\n",
    "# Rankings of top 9 creative types\n",
    "PopularCreative = pd.read_csv('PopularCreativeTypes.csv')\n",
    "# Top 10 distributors\n",
    "TopDistr = pd.read_csv('TopDistributors.csv')\n",
    "# Top 10 genres\n",
    "TopGenre = pd.read_csv('TopGenres.csv')\n",
    "# Top 8 MPAA ratings\n",
    "TopGrossRate = pd.read_csv('TopGrossingRatings.csv')\n",
    "# Top 10 movies sources\n",
    "TopGrossSrc = pd.read_csv('TopGrossingSources.csv')\n",
    "# Top 7 production methods\n",
    "TopProdMethod = pd.read_csv('TopProductionMethods.csv')\n",
    "# Number of releases per year by top 6 distributors and others (total)\n",
    "WideRelease = pd.read_csv('WideReleasesCount.csv')\n"
   ]
  },
  {
   "cell_type": "code",
   "execution_count": 3,
   "id": "b50d8a82-7572-4795-a4c7-9f5fd717dd05",
   "metadata": {},
   "outputs": [],
   "source": [
    "files = [TicketSales, HighestGross, PopularCreative, TopDistr, TopGenre, TopGrossRate, TopGrossSrc, TopProdMethod, WideRelease]\n",
    "file_name = ['TicketSales', 'HighestGross', 'PopularCreative', 'TopDistr', 'TopGenre', 'TopGrossRate', 'TopGrossSrc', 'TopProdMethod', 'WideRelease']"
   ]
  },
  {
   "cell_type": "code",
   "execution_count": 1,
   "id": "9c2a9531-0cb5-4413-9181-7f5a99276136",
   "metadata": {},
   "outputs": [],
   "source": [
    "# Inspect data\n",
    "for i in range(9):\n",
    "    print('File #', i+1, ':', file_name[i])\n",
    "    display(files[i].head(2))\n",
    "    print('─' * 100)"
   ]
  },
  {
   "cell_type": "markdown",
   "id": "e96240df-93e4-4103-ba35-c95d30cf541e",
   "metadata": {},
   "source": [
    "# Data cleanup"
   ]
  },
  {
   "cell_type": "code",
   "execution_count": 28,
   "id": "22c4272a-0f94-4e7b-8668-34ba9c9c0fd5",
   "metadata": {},
   "outputs": [],
   "source": [
    "# File #1: Annual Ticket Sales\n",
    "TicketSales = TicketSales.dropna(axis=1, how='all')\n",
    "\n",
    "TicketSales['TICKETS SOLD'] = TicketSales['TICKETS SOLD'].apply(lambda x: x.replace('$','').replace(',','')).astype(int)\n",
    "TicketSales['TOTAL BOX OFFICE'] = TicketSales['TOTAL BOX OFFICE'].apply(lambda x: x.replace('$','').replace(',',''))\n",
    "TicketSales['TOTAL INFLATION ADJUSTED BOX OFFICE'] = TicketSales['TOTAL INFLATION ADJUSTED BOX OFFICE'].apply(lambda x: x.replace('$','').replace(',',''))\n",
    "TicketSales['AVERAGE TICKET PRICE'] = TicketSales['AVERAGE TICKET PRICE'].apply(lambda x: x.replace('$','').replace(',',''))\n",
    "\n",
    "TicketSales = TicketSales.astype({\"TOTAL BOX OFFICE\":'int64', \"TOTAL INFLATION ADJUSTED BOX OFFICE\":'int64',\n",
    "                                 \"AVERAGE TICKET PRICE\":'float'})"
   ]
  },
  {
   "cell_type": "code",
   "execution_count": 149,
   "id": "e2bd8ac2-5dfb-498c-be2d-da06568db5a6",
   "metadata": {},
   "outputs": [],
   "source": [
    "# File #2: Highest Grossers\n",
    "HighestGross['TOTAL FOR YEAR'] = HighestGross['TOTAL FOR YEAR'].apply(lambda x: x.replace('$','').replace(',',''))\n",
    "HighestGross['TOTAL IN 2019 DOLLARS'] = HighestGross['TOTAL IN 2019 DOLLARS'].apply(lambda x: x.replace('$','').replace(',',''))\n",
    "HighestGross['TICKETS SOLD'] = HighestGross['TICKETS SOLD'].apply(lambda x: x.replace(',',''))\n",
    "HighestGross = HighestGross.astype({\"TOTAL FOR YEAR\":'int64', \"TOTAL IN 2019 DOLLARS\":'int64',\n",
    "                                 \"TICKETS SOLD\":'int64'})"
   ]
  },
  {
   "cell_type": "code",
   "execution_count": 69,
   "id": "d2a9e27f-4261-433b-bee0-5b57d1d58b15",
   "metadata": {},
   "outputs": [],
   "source": [
    "# File #3: Popular Creative Types\n",
    "PopularCreative['RANK'] = PopularCreative['RANK'].apply(lambda x: x.split('.')[0])\n",
    "PopularCreative['MOVIES'] = PopularCreative['MOVIES'].apply(lambda x: x.replace(',',''))\n",
    "PopularCreative['TOTAL GROSS'] = PopularCreative['TOTAL GROSS'].apply(lambda x: x.replace('$','').replace(',',''))\n",
    "PopularCreative['AVERAGE GROSS'] = PopularCreative['AVERAGE GROSS'].apply(lambda x: x.replace('$','').replace(',',''))\n",
    "\n",
    "PopularCreative.rename(columns = {'MARKET SHARE':'MARKET SHARE (%)',}, inplace = True)\n",
    "PopularCreative['MARKET SHARE (%)'] = PopularCreative['MARKET SHARE (%)'].apply(lambda x: x.replace('%',''))"
   ]
  },
  {
   "cell_type": "code",
   "execution_count": 86,
   "id": "7a22082d-ec34-4e8c-a3ce-9bafe9474481",
   "metadata": {},
   "outputs": [],
   "source": [
    "nan_value = float(\"NaN\")\n",
    "PopularCreative.replace(\"\", nan_value, inplace=True)\n",
    "PopularCreative.dropna(subset = [\"CREATIVE TYPES\"], inplace=True)"
   ]
  },
  {
   "cell_type": "code",
   "execution_count": 88,
   "id": "b1c52565-b7e7-4564-b4a4-6ba3912403d2",
   "metadata": {},
   "outputs": [],
   "source": [
    "PopularCreative = PopularCreative.astype({\"RANK\":'int', \"MOVIES\":'int', \"TOTAL GROSS\":'int64', \n",
    "                                 \"AVERAGE GROSS\":'int64', \"MARKET SHARE (%)\":'float'})"
   ]
  },
  {
   "cell_type": "code",
   "execution_count": 99,
   "id": "57555cb0-0ab1-4214-b56b-a89cfcd4e28a",
   "metadata": {},
   "outputs": [],
   "source": [
    "# File #4: Top Distributors\n",
    "TopDistr['TOTAL GROSS'] = TopDistr['TOTAL GROSS'].apply(lambda x: x.replace('$','').replace(',',''))\n",
    "TopDistr['AVERAGE GROSS'] = TopDistr['AVERAGE GROSS'].apply(lambda x: x.replace('$','').replace(',',''))\n",
    "TopDistr['MARKET SHARE'] = TopDistr['MARKET SHARE'].apply(lambda x: x.replace('%',''))\n",
    "\n",
    "TopDistr.rename(columns = {'MARKET SHARE':'MARKET SHARE (%)',}, inplace = True)\n",
    "\n",
    "TopDistr = TopDistr.astype({\"TOTAL GROSS\":'int64', \"AVERAGE GROSS\":'int64', \"MARKET SHARE (%)\":'float'})"
   ]
  },
  {
   "cell_type": "code",
   "execution_count": 106,
   "id": "ae28fdd7-b0c8-4514-a14e-0bab99d7d3d9",
   "metadata": {},
   "outputs": [],
   "source": [
    "# File #5: Top Genres\n",
    "TopGenre['MOVIES'] = TopGenre['MOVIES'].apply(lambda x: x.replace(',',''))\n",
    "TopGenre['TOTAL GROSS'] = TopGenre['TOTAL GROSS'].apply(lambda x: x.replace('$','').replace(',',''))\n",
    "TopGenre['AVERAGE GROSS'] = TopGenre['AVERAGE GROSS'].apply(lambda x: x.replace('$','').replace(',',''))\n",
    "TopGenre['MARKET SHARE'] = TopGenre['MARKET SHARE'].apply(lambda x: x.replace('%',''))\n",
    "\n",
    "TopGenre.rename(columns = {'MARKET SHARE':'MARKET SHARE (%)',}, inplace = True)\n",
    "\n",
    "TopGenre = TopGenre.astype({\"MOVIES\":'int', \"TOTAL GROSS\":'int64', \"AVERAGE GROSS\":'int64', \"MARKET SHARE (%)\":'float'})"
   ]
  },
  {
   "cell_type": "code",
   "execution_count": 112,
   "id": "ea4763a2-79f1-4968-a103-2b0050f369e3",
   "metadata": {},
   "outputs": [],
   "source": [
    "# File #6: Top Grossing Ratings\n",
    "TopGrossRate['MOVIES'] = TopGrossRate['MOVIES'].apply(lambda x: x.replace(',',''))\n",
    "TopGrossRate['TOTAL GROSS'] = TopGrossRate['TOTAL GROSS'].apply(lambda x: x.replace('$','').replace(',',''))\n",
    "TopGrossRate['AVERAGE GROSS'] = TopGrossRate['AVERAGE GROSS'].apply(lambda x: x.replace('$','').replace(',',''))\n",
    "TopGrossRate['MARKET SHARE'] = TopGrossRate['MARKET SHARE'].apply(lambda x: x.replace('%',''))\n",
    "\n",
    "TopGrossRate.rename(columns = {'MARKET SHARE':'MARKET SHARE (%)',}, inplace = True)\n",
    "\n",
    "TopGrossRate = TopGrossRate.astype({\"MOVIES\":'int', \"TOTAL GROSS\":'int64', \"AVERAGE GROSS\":'int64', \"MARKET SHARE (%)\":'float'})"
   ]
  },
  {
   "cell_type": "code",
   "execution_count": 118,
   "id": "64b856b2-188d-4e4f-8082-280ce27f2f33",
   "metadata": {},
   "outputs": [],
   "source": [
    "# File #7: Top Grossing Sources\n",
    "TopGrossSrc['MOVIES'] = TopGrossSrc['MOVIES'].apply(lambda x: x.replace(',',''))\n",
    "TopGrossSrc['TOTAL GROSS'] = TopGrossSrc['TOTAL GROSS'].apply(lambda x: x.replace('$','').replace(',',''))\n",
    "TopGrossSrc['AVERAGE GROSS'] = TopGrossSrc['AVERAGE GROSS'].apply(lambda x: x.replace('$','').replace(',',''))\n",
    "TopGrossSrc['MARKET SHARE'] = TopGrossSrc['MARKET SHARE'].apply(lambda x: x.replace('%',''))\n",
    "\n",
    "TopGrossSrc.rename(columns = {'MARKET SHARE':'MARKET SHARE (%)',}, inplace = True)\n",
    "\n",
    "TopGrossSrc = TopGrossSrc.astype({\"MOVIES\":'int', \"TOTAL GROSS\":'int64', \"AVERAGE GROSS\":'int64', \"MARKET SHARE (%)\":'float'})"
   ]
  },
  {
   "cell_type": "code",
   "execution_count": 123,
   "id": "21326979-d370-4cbf-855a-5a0899bac988",
   "metadata": {},
   "outputs": [],
   "source": [
    "# File #8: Top Production Methods\n",
    "TopProdMethod['MOVIES'] = TopProdMethod['MOVIES'].apply(lambda x: x.replace(',',''))\n",
    "TopProdMethod['TOTAL GROSS'] = TopProdMethod['TOTAL GROSS'].apply(lambda x: x.replace('$','').replace(',',''))\n",
    "TopProdMethod['AVERAGE GROSS'] = TopProdMethod['AVERAGE GROSS'].apply(lambda x: x.replace('$','').replace(',',''))\n",
    "TopProdMethod['MARKET SHARE'] = TopProdMethod['MARKET SHARE'].apply(lambda x: x.replace('%',''))\n",
    "\n",
    "TopProdMethod.rename(columns = {'MARKET SHARE':'MARKET SHARE (%)',}, inplace = True)\n",
    "\n",
    "TopProdMethod = TopProdMethod.astype({\"MOVIES\":'int', \"TOTAL GROSS\":'int64', \"AVERAGE GROSS\":'int64', \"MARKET SHARE (%)\":'float'})"
   ]
  },
  {
   "cell_type": "code",
   "execution_count": 131,
   "id": "a76522e9-35d0-4b18-8e42-5d1998cd2e6c",
   "metadata": {},
   "outputs": [],
   "source": [
    "# File #9: Wide Releases \n",
    "WideRelease = WideRelease.dropna(axis=1, how='all')"
   ]
  },
  {
   "cell_type": "code",
   "execution_count": 145,
   "id": "8e56d6e2-37ab-448d-bc42-cef556e2fbb5",
   "metadata": {},
   "outputs": [],
   "source": [
    "# Overwriting data cleaned to files\n",
    "TicketSales.to_csv ('AnnualTicketSales.csv', index = False, header=True)\n",
    "HighestGross.to_csv ('HighestGrossers.csv', index = False, header=True)\n",
    "PopularCreative.to_csv ('PopularCreativeTypes.csv', index = False, header=True)\n",
    "TopDistr.to_csv ('TopDistributors.csv', index = False, header=True)\n",
    "TopGenre.to_csv ('TopGenres.csv', index = False, header=True)\n",
    "TopGrossRate.to_csv ('TopGrossingRatings.csv', index = False, header=True)\n",
    "TopGrossSrc.to_csv ('TopGrossingSources.csv', index = False, header=True)\n",
    "TopProdMethod.to_csv ('TopProductionMethods.csv', index = False, header=True)\n",
    "WideRelease.to_csv ('WideReleasesCount.csv', index = False, header=True)"
   ]
  },
  {
   "cell_type": "code",
   "execution_count": null,
   "id": "91de3837-1e76-47fe-b222-e5e5188dd5c7",
   "metadata": {},
   "outputs": [],
   "source": []
  }
 ],
 "metadata": {
  "kernelspec": {
   "display_name": "Python 3",
   "language": "python",
   "name": "python3"
  },
  "language_info": {
   "codemirror_mode": {
    "name": "ipython",
    "version": 3
   },
   "file_extension": ".py",
   "mimetype": "text/x-python",
   "name": "python",
   "nbconvert_exporter": "python",
   "pygments_lexer": "ipython3",
   "version": "3.8.8"
  }
 },
 "nbformat": 4,
 "nbformat_minor": 5
}
