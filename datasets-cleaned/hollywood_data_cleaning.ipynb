{
 "cells": [
  {
   "cell_type": "markdown",
   "id": "a6fea2cf-828b-487f-8c54-9e382e24e9c0",
   "metadata": {},
   "source": [
    "# Hollywood Theatrical Market Synopsis 1995 to 2021\n",
    "\n",
    "-- North American domestic movies theatrical market synopsis\n",
    "\n",
    "All movies released since 1995 are categorized according to the following attributes: Creative type (factual, contemporary fiction, fantasy etc.), Source (book, play, original screenplay etc.), Genre (drama, horror, documentary etc.), MPAA rating, Production method (live action, digital animation etc.) and Distributor. In order to provide a fair comparison between movies released in different years, all rankings are based on ticket sales, which are calculated using average ticket prices announced by the MPAA in their annual state of the industry report\n",
    "\n",
    "Dataset showing the exponential growth of box office collections as well as ticket sales over time (and the decline after 2020 due to the Covid-19 pandemic) indirectly indicating the quality of modern day films. This Dataset can also be used to study the genres which attract audience the most and encourage one to create an amazing genre specific plot in order to take one step closer to becoming the next most successful director!\n",
    "\n",
    "\n",
    "Source: https://www.kaggle.com/johnharshith/hollywood-theatrical-market-synopsis-1995-to-2021\n"
   ]
  },
  {
   "cell_type": "code",
   "execution_count": 24,
   "id": "0b220832-cce7-4b90-ac50-7a1da2af8f17",
   "metadata": {},
   "outputs": [],
   "source": [
    "import pandas as pd\n",
    "import matplotlib.pyplot as plt\n",
    "import seaborn as sns\n",
    "import numpy as np"
   ]
  },
  {
   "cell_type": "code",
   "execution_count": 2,
   "id": "ec086f95-ad6d-4dea-a72b-e02e7f0e516f",
   "metadata": {},
   "outputs": [],
   "source": [
    "# Tickets sold per year\n",
    "TicketSales = pd.read_csv('AnnualTicketSales.csv')\n",
    "# Top movies per year\n",
    "HighestGross = pd.read_csv('HighestGrossers.csv')\n",
    "# Rankings of top 9 creative types\n",
    "PopularCreative = pd.read_csv('PopularCreativeTypes.csv')\n",
    "# Top 10 distributors\n",
    "TopDistr = pd.read_csv('TopDistributors.csv')\n",
    "# Top 10 genres\n",
    "TopGenre = pd.read_csv('TopGenres.csv')\n",
    "# Top 8 MPAA ratings\n",
    "TopGrossRate = pd.read_csv('TopGrossingRatings.csv')\n",
    "# Top 10 movies sources\n",
    "TopGrossSrc = pd.read_csv('TopGrossingSources.csv')\n",
    "# Top 7 production methods\n",
    "TopProdMethod = pd.read_csv('TopProductionMethods.csv')\n",
    "# Number of releases per year by top 6 distributors and others (total)\n",
    "WideRelease = pd.read_csv('WideReleasesCount.csv')\n"
   ]
  },
  {
   "cell_type": "code",
   "execution_count": 3,
   "id": "b50d8a82-7572-4795-a4c7-9f5fd717dd05",
   "metadata": {},
   "outputs": [],
   "source": [
    "files = [TicketSales, HighestGross, PopularCreative, TopDistr, TopGenre, TopGrossRate, TopGrossSrc, TopProdMethod, WideRelease]\n",
    "file_name = ['TicketSales', 'HighestGross', 'PopularCreative', 'TopDistr', 'TopGenre', 'TopGrossRate', 'TopGrossSrc', 'TopProdMethod', 'WideRelease']"
   ]
  },
  {
   "cell_type": "code",
   "execution_count": 4,
   "id": "9c2a9531-0cb5-4413-9181-7f5a99276136",
   "metadata": {},
   "outputs": [
    {
     "name": "stdout",
     "output_type": "stream",
     "text": [
      "File # 1 : TicketSales\n"
     ]
    },
    {
     "data": {
      "text/html": [
       "<div>\n",
       "<style scoped>\n",
       "    .dataframe tbody tr th:only-of-type {\n",
       "        vertical-align: middle;\n",
       "    }\n",
       "\n",
       "    .dataframe tbody tr th {\n",
       "        vertical-align: top;\n",
       "    }\n",
       "\n",
       "    .dataframe thead th {\n",
       "        text-align: right;\n",
       "    }\n",
       "</style>\n",
       "<table border=\"1\" class=\"dataframe\">\n",
       "  <thead>\n",
       "    <tr style=\"text-align: right;\">\n",
       "      <th></th>\n",
       "      <th>YEAR</th>\n",
       "      <th>TICKETS SOLD</th>\n",
       "      <th>TOTAL BOX OFFICE</th>\n",
       "      <th>TOTAL INFLATION ADJUSTED BOX OFFICE</th>\n",
       "      <th>AVERAGE TICKET PRICE</th>\n",
       "    </tr>\n",
       "  </thead>\n",
       "  <tbody>\n",
       "    <tr>\n",
       "      <th>0</th>\n",
       "      <td>2021</td>\n",
       "      <td>42,37,74,881</td>\n",
       "      <td>$3,881,777,912</td>\n",
       "      <td>$3,881,777,912</td>\n",
       "      <td>$9.16</td>\n",
       "    </tr>\n",
       "    <tr>\n",
       "      <th>1</th>\n",
       "      <td>2020</td>\n",
       "      <td>22,36,38,958</td>\n",
       "      <td>$2,048,534,616</td>\n",
       "      <td>$2,048,534,616</td>\n",
       "      <td>$9.16</td>\n",
       "    </tr>\n",
       "  </tbody>\n",
       "</table>\n",
       "</div>"
      ],
      "text/plain": [
       "   YEAR  TICKETS SOLD TOTAL BOX OFFICE TOTAL INFLATION ADJUSTED BOX OFFICE  \\\n",
       "0  2021  42,37,74,881   $3,881,777,912                      $3,881,777,912   \n",
       "1  2020  22,36,38,958   $2,048,534,616                      $2,048,534,616   \n",
       "\n",
       "  AVERAGE TICKET PRICE  \n",
       "0                $9.16  \n",
       "1                $9.16  "
      ]
     },
     "metadata": {},
     "output_type": "display_data"
    },
    {
     "name": "stdout",
     "output_type": "stream",
     "text": [
      "────────────────────────────────────────────────────────────────────────────────────────────────────\n",
      "File # 2 : HighestGross\n"
     ]
    },
    {
     "data": {
      "text/html": [
       "<div>\n",
       "<style scoped>\n",
       "    .dataframe tbody tr th:only-of-type {\n",
       "        vertical-align: middle;\n",
       "    }\n",
       "\n",
       "    .dataframe tbody tr th {\n",
       "        vertical-align: top;\n",
       "    }\n",
       "\n",
       "    .dataframe thead th {\n",
       "        text-align: right;\n",
       "    }\n",
       "</style>\n",
       "<table border=\"1\" class=\"dataframe\">\n",
       "  <thead>\n",
       "    <tr style=\"text-align: right;\">\n",
       "      <th></th>\n",
       "      <th>YEAR</th>\n",
       "      <th>MOVIE</th>\n",
       "      <th>GENRE</th>\n",
       "      <th>MPAA RATING</th>\n",
       "      <th>DISTRIBUTOR</th>\n",
       "      <th>TOTAL FOR YEAR</th>\n",
       "      <th>TOTAL IN 2019 DOLLARS</th>\n",
       "      <th>TICKETS SOLD</th>\n",
       "    </tr>\n",
       "  </thead>\n",
       "  <tbody>\n",
       "    <tr>\n",
       "      <th>0</th>\n",
       "      <td>1995</td>\n",
       "      <td>Batman Forever</td>\n",
       "      <td>Drama</td>\n",
       "      <td>PG-13</td>\n",
       "      <td>Warner Bros.</td>\n",
       "      <td>$184,031,112</td>\n",
       "      <td>$387,522,978</td>\n",
       "      <td>4,23,06,002</td>\n",
       "    </tr>\n",
       "    <tr>\n",
       "      <th>1</th>\n",
       "      <td>1996</td>\n",
       "      <td>Independence Day</td>\n",
       "      <td>Adventure</td>\n",
       "      <td>PG-13</td>\n",
       "      <td>20th Century Fox</td>\n",
       "      <td>$306,169,255</td>\n",
       "      <td>$634,504,608</td>\n",
       "      <td>6,92,69,062</td>\n",
       "    </tr>\n",
       "  </tbody>\n",
       "</table>\n",
       "</div>"
      ],
      "text/plain": [
       "   YEAR             MOVIE      GENRE MPAA RATING       DISTRIBUTOR  \\\n",
       "0  1995    Batman Forever      Drama       PG-13      Warner Bros.   \n",
       "1  1996  Independence Day  Adventure       PG-13  20th Century Fox   \n",
       "\n",
       "  TOTAL FOR YEAR TOTAL IN 2019 DOLLARS TICKETS SOLD  \n",
       "0   $184,031,112          $387,522,978  4,23,06,002  \n",
       "1   $306,169,255          $634,504,608  6,92,69,062  "
      ]
     },
     "metadata": {},
     "output_type": "display_data"
    },
    {
     "name": "stdout",
     "output_type": "stream",
     "text": [
      "────────────────────────────────────────────────────────────────────────────────────────────────────\n",
      "File # 3 : PopularCreative\n"
     ]
    },
    {
     "data": {
      "text/html": [
       "<div>\n",
       "<style scoped>\n",
       "    .dataframe tbody tr th:only-of-type {\n",
       "        vertical-align: middle;\n",
       "    }\n",
       "\n",
       "    .dataframe tbody tr th {\n",
       "        vertical-align: top;\n",
       "    }\n",
       "\n",
       "    .dataframe thead th {\n",
       "        text-align: right;\n",
       "    }\n",
       "</style>\n",
       "<table border=\"1\" class=\"dataframe\">\n",
       "  <thead>\n",
       "    <tr style=\"text-align: right;\">\n",
       "      <th></th>\n",
       "      <th>RANK</th>\n",
       "      <th>CREATIVE TYPES</th>\n",
       "      <th>MOVIES</th>\n",
       "      <th>TOTAL GROSS</th>\n",
       "      <th>AVERAGE GROSS</th>\n",
       "      <th>MARKET SHARE</th>\n",
       "    </tr>\n",
       "  </thead>\n",
       "  <tbody>\n",
       "    <tr>\n",
       "      <th>0</th>\n",
       "      <td>1.0</td>\n",
       "      <td>Contemporary Fiction</td>\n",
       "      <td>7,442</td>\n",
       "      <td>$96,203,727,036</td>\n",
       "      <td>$12,927,133</td>\n",
       "      <td>40.46%</td>\n",
       "    </tr>\n",
       "    <tr>\n",
       "      <th>1</th>\n",
       "      <td>2.0</td>\n",
       "      <td>Kids Fiction</td>\n",
       "      <td>564</td>\n",
       "      <td>$32,035,539,746</td>\n",
       "      <td>$56,800,602</td>\n",
       "      <td>13.47%</td>\n",
       "    </tr>\n",
       "  </tbody>\n",
       "</table>\n",
       "</div>"
      ],
      "text/plain": [
       "   RANK        CREATIVE TYPES MOVIES      TOTAL GROSS AVERAGE GROSS  \\\n",
       "0   1.0  Contemporary Fiction  7,442  $96,203,727,036   $12,927,133   \n",
       "1   2.0          Kids Fiction    564  $32,035,539,746   $56,800,602   \n",
       "\n",
       "  MARKET SHARE  \n",
       "0       40.46%  \n",
       "1       13.47%  "
      ]
     },
     "metadata": {},
     "output_type": "display_data"
    },
    {
     "name": "stdout",
     "output_type": "stream",
     "text": [
      "────────────────────────────────────────────────────────────────────────────────────────────────────\n",
      "File # 4 : TopDistr\n"
     ]
    },
    {
     "data": {
      "text/html": [
       "<div>\n",
       "<style scoped>\n",
       "    .dataframe tbody tr th:only-of-type {\n",
       "        vertical-align: middle;\n",
       "    }\n",
       "\n",
       "    .dataframe tbody tr th {\n",
       "        vertical-align: top;\n",
       "    }\n",
       "\n",
       "    .dataframe thead th {\n",
       "        text-align: right;\n",
       "    }\n",
       "</style>\n",
       "<table border=\"1\" class=\"dataframe\">\n",
       "  <thead>\n",
       "    <tr style=\"text-align: right;\">\n",
       "      <th></th>\n",
       "      <th>RANK</th>\n",
       "      <th>DISTRIBUTORS</th>\n",
       "      <th>MOVIES</th>\n",
       "      <th>TOTAL GROSS</th>\n",
       "      <th>AVERAGE GROSS</th>\n",
       "      <th>MARKET SHARE</th>\n",
       "    </tr>\n",
       "  </thead>\n",
       "  <tbody>\n",
       "    <tr>\n",
       "      <th>0</th>\n",
       "      <td>1</td>\n",
       "      <td>Walt Disney</td>\n",
       "      <td>588</td>\n",
       "      <td>$40,472,424,278</td>\n",
       "      <td>$68,830,654</td>\n",
       "      <td>17.02%</td>\n",
       "    </tr>\n",
       "    <tr>\n",
       "      <th>1</th>\n",
       "      <td>2</td>\n",
       "      <td>Warner Bros.</td>\n",
       "      <td>824</td>\n",
       "      <td>$36,269,425,479</td>\n",
       "      <td>$44,016,293</td>\n",
       "      <td>15.25%</td>\n",
       "    </tr>\n",
       "  </tbody>\n",
       "</table>\n",
       "</div>"
      ],
      "text/plain": [
       "   RANK  DISTRIBUTORS  MOVIES      TOTAL GROSS AVERAGE GROSS MARKET SHARE\n",
       "0     1   Walt Disney     588  $40,472,424,278   $68,830,654       17.02%\n",
       "1     2  Warner Bros.     824  $36,269,425,479   $44,016,293       15.25%"
      ]
     },
     "metadata": {},
     "output_type": "display_data"
    },
    {
     "name": "stdout",
     "output_type": "stream",
     "text": [
      "────────────────────────────────────────────────────────────────────────────────────────────────────\n",
      "File # 5 : TopGenre\n"
     ]
    },
    {
     "data": {
      "text/html": [
       "<div>\n",
       "<style scoped>\n",
       "    .dataframe tbody tr th:only-of-type {\n",
       "        vertical-align: middle;\n",
       "    }\n",
       "\n",
       "    .dataframe tbody tr th {\n",
       "        vertical-align: top;\n",
       "    }\n",
       "\n",
       "    .dataframe thead th {\n",
       "        text-align: right;\n",
       "    }\n",
       "</style>\n",
       "<table border=\"1\" class=\"dataframe\">\n",
       "  <thead>\n",
       "    <tr style=\"text-align: right;\">\n",
       "      <th></th>\n",
       "      <th>RANK</th>\n",
       "      <th>GENRES</th>\n",
       "      <th>MOVIES</th>\n",
       "      <th>TOTAL GROSS</th>\n",
       "      <th>AVERAGE GROSS</th>\n",
       "      <th>MARKET SHARE</th>\n",
       "    </tr>\n",
       "  </thead>\n",
       "  <tbody>\n",
       "    <tr>\n",
       "      <th>0</th>\n",
       "      <td>1</td>\n",
       "      <td>Adventure</td>\n",
       "      <td>1,102</td>\n",
       "      <td>$64,529,536,530</td>\n",
       "      <td>$58,556,748</td>\n",
       "      <td>27.14%</td>\n",
       "    </tr>\n",
       "    <tr>\n",
       "      <th>1</th>\n",
       "      <td>2</td>\n",
       "      <td>Action</td>\n",
       "      <td>1,098</td>\n",
       "      <td>$49,339,974,493</td>\n",
       "      <td>$44,936,224</td>\n",
       "      <td>20.75%</td>\n",
       "    </tr>\n",
       "  </tbody>\n",
       "</table>\n",
       "</div>"
      ],
      "text/plain": [
       "   RANK     GENRES MOVIES      TOTAL GROSS AVERAGE GROSS MARKET SHARE\n",
       "0     1  Adventure  1,102  $64,529,536,530   $58,556,748       27.14%\n",
       "1     2     Action  1,098  $49,339,974,493   $44,936,224       20.75%"
      ]
     },
     "metadata": {},
     "output_type": "display_data"
    },
    {
     "name": "stdout",
     "output_type": "stream",
     "text": [
      "────────────────────────────────────────────────────────────────────────────────────────────────────\n",
      "File # 6 : TopGrossRate\n"
     ]
    },
    {
     "data": {
      "text/html": [
       "<div>\n",
       "<style scoped>\n",
       "    .dataframe tbody tr th:only-of-type {\n",
       "        vertical-align: middle;\n",
       "    }\n",
       "\n",
       "    .dataframe tbody tr th {\n",
       "        vertical-align: top;\n",
       "    }\n",
       "\n",
       "    .dataframe thead th {\n",
       "        text-align: right;\n",
       "    }\n",
       "</style>\n",
       "<table border=\"1\" class=\"dataframe\">\n",
       "  <thead>\n",
       "    <tr style=\"text-align: right;\">\n",
       "      <th></th>\n",
       "      <th>RANK</th>\n",
       "      <th>MPAA RATINGS</th>\n",
       "      <th>MOVIES</th>\n",
       "      <th>TOTAL GROSS</th>\n",
       "      <th>AVERAGE GROSS</th>\n",
       "      <th>MARKET SHARE</th>\n",
       "    </tr>\n",
       "  </thead>\n",
       "  <tbody>\n",
       "    <tr>\n",
       "      <th>0</th>\n",
       "      <td>1</td>\n",
       "      <td>PG-13</td>\n",
       "      <td>3,243</td>\n",
       "      <td>$113,524,789,243</td>\n",
       "      <td>$35,006,102</td>\n",
       "      <td>47.75%</td>\n",
       "    </tr>\n",
       "    <tr>\n",
       "      <th>1</th>\n",
       "      <td>2</td>\n",
       "      <td>R</td>\n",
       "      <td>5,480</td>\n",
       "      <td>$63,497,164,978</td>\n",
       "      <td>$11,587,074</td>\n",
       "      <td>26.71%</td>\n",
       "    </tr>\n",
       "  </tbody>\n",
       "</table>\n",
       "</div>"
      ],
      "text/plain": [
       "   RANK MPAA RATINGS MOVIES       TOTAL GROSS AVERAGE GROSS MARKET SHARE\n",
       "0     1        PG-13  3,243  $113,524,789,243   $35,006,102       47.75%\n",
       "1     2            R  5,480   $63,497,164,978   $11,587,074       26.71%"
      ]
     },
     "metadata": {},
     "output_type": "display_data"
    },
    {
     "name": "stdout",
     "output_type": "stream",
     "text": [
      "────────────────────────────────────────────────────────────────────────────────────────────────────\n",
      "File # 7 : TopGrossSrc\n"
     ]
    },
    {
     "data": {
      "text/html": [
       "<div>\n",
       "<style scoped>\n",
       "    .dataframe tbody tr th:only-of-type {\n",
       "        vertical-align: middle;\n",
       "    }\n",
       "\n",
       "    .dataframe tbody tr th {\n",
       "        vertical-align: top;\n",
       "    }\n",
       "\n",
       "    .dataframe thead th {\n",
       "        text-align: right;\n",
       "    }\n",
       "</style>\n",
       "<table border=\"1\" class=\"dataframe\">\n",
       "  <thead>\n",
       "    <tr style=\"text-align: right;\">\n",
       "      <th></th>\n",
       "      <th>RANK</th>\n",
       "      <th>SOURCES</th>\n",
       "      <th>MOVIES</th>\n",
       "      <th>TOTAL GROSS</th>\n",
       "      <th>AVERAGE GROSS</th>\n",
       "      <th>MARKET SHARE</th>\n",
       "    </tr>\n",
       "  </thead>\n",
       "  <tbody>\n",
       "    <tr>\n",
       "      <th>0</th>\n",
       "      <td>1</td>\n",
       "      <td>Original Screenplay</td>\n",
       "      <td>7,946</td>\n",
       "      <td>$106,375,196,782</td>\n",
       "      <td>$13,387,264</td>\n",
       "      <td>44.74%</td>\n",
       "    </tr>\n",
       "    <tr>\n",
       "      <th>1</th>\n",
       "      <td>2</td>\n",
       "      <td>Based on Fiction Book/Short Story</td>\n",
       "      <td>2,150</td>\n",
       "      <td>$47,005,613,207</td>\n",
       "      <td>$21,863,076</td>\n",
       "      <td>19.77%</td>\n",
       "    </tr>\n",
       "  </tbody>\n",
       "</table>\n",
       "</div>"
      ],
      "text/plain": [
       "   RANK                            SOURCES MOVIES       TOTAL GROSS  \\\n",
       "0     1                Original Screenplay  7,946  $106,375,196,782   \n",
       "1     2  Based on Fiction Book/Short Story  2,150   $47,005,613,207   \n",
       "\n",
       "  AVERAGE GROSS MARKET SHARE  \n",
       "0   $13,387,264       44.74%  \n",
       "1   $21,863,076       19.77%  "
      ]
     },
     "metadata": {},
     "output_type": "display_data"
    },
    {
     "name": "stdout",
     "output_type": "stream",
     "text": [
      "────────────────────────────────────────────────────────────────────────────────────────────────────\n",
      "File # 8 : TopProdMethod\n"
     ]
    },
    {
     "data": {
      "text/html": [
       "<div>\n",
       "<style scoped>\n",
       "    .dataframe tbody tr th:only-of-type {\n",
       "        vertical-align: middle;\n",
       "    }\n",
       "\n",
       "    .dataframe tbody tr th {\n",
       "        vertical-align: top;\n",
       "    }\n",
       "\n",
       "    .dataframe thead th {\n",
       "        text-align: right;\n",
       "    }\n",
       "</style>\n",
       "<table border=\"1\" class=\"dataframe\">\n",
       "  <thead>\n",
       "    <tr style=\"text-align: right;\">\n",
       "      <th></th>\n",
       "      <th>RANK</th>\n",
       "      <th>PRODUCTION METHODS</th>\n",
       "      <th>MOVIES</th>\n",
       "      <th>TOTAL GROSS</th>\n",
       "      <th>AVERAGE GROSS</th>\n",
       "      <th>MARKET SHARE</th>\n",
       "    </tr>\n",
       "  </thead>\n",
       "  <tbody>\n",
       "    <tr>\n",
       "      <th>0</th>\n",
       "      <td>1</td>\n",
       "      <td>Live Action</td>\n",
       "      <td>14,613</td>\n",
       "      <td>$179,637,201,848</td>\n",
       "      <td>$12,292,972</td>\n",
       "      <td>75.56%</td>\n",
       "    </tr>\n",
       "    <tr>\n",
       "      <th>1</th>\n",
       "      <td>2</td>\n",
       "      <td>Animation/Live Action</td>\n",
       "      <td>264</td>\n",
       "      <td>$30,346,622,254</td>\n",
       "      <td>$114,949,327</td>\n",
       "      <td>12.76%</td>\n",
       "    </tr>\n",
       "  </tbody>\n",
       "</table>\n",
       "</div>"
      ],
      "text/plain": [
       "   RANK     PRODUCTION METHODS  MOVIES       TOTAL GROSS AVERAGE GROSS  \\\n",
       "0     1            Live Action  14,613  $179,637,201,848   $12,292,972   \n",
       "1     2  Animation/Live Action     264   $30,346,622,254  $114,949,327   \n",
       "\n",
       "  MARKET SHARE  \n",
       "0       75.56%  \n",
       "1       12.76%  "
      ]
     },
     "metadata": {},
     "output_type": "display_data"
    },
    {
     "name": "stdout",
     "output_type": "stream",
     "text": [
      "────────────────────────────────────────────────────────────────────────────────────────────────────\n",
      "File # 9 : WideRelease\n"
     ]
    },
    {
     "data": {
      "text/html": [
       "<div>\n",
       "<style scoped>\n",
       "    .dataframe tbody tr th:only-of-type {\n",
       "        vertical-align: middle;\n",
       "    }\n",
       "\n",
       "    .dataframe tbody tr th {\n",
       "        vertical-align: top;\n",
       "    }\n",
       "\n",
       "    .dataframe thead th {\n",
       "        text-align: right;\n",
       "    }\n",
       "</style>\n",
       "<table border=\"1\" class=\"dataframe\">\n",
       "  <thead>\n",
       "    <tr style=\"text-align: right;\">\n",
       "      <th></th>\n",
       "      <th>YEAR</th>\n",
       "      <th>WARNER BROS</th>\n",
       "      <th>WALT DISNEY</th>\n",
       "      <th>20TH CENTURY FOX</th>\n",
       "      <th>PARAMOUNT PICTURES</th>\n",
       "      <th>SONY PICTURES</th>\n",
       "      <th>UNIVERSAL</th>\n",
       "      <th>TOTAL MAJOR 6</th>\n",
       "      <th>TOTAL OTHER STUDIOS</th>\n",
       "    </tr>\n",
       "  </thead>\n",
       "  <tbody>\n",
       "    <tr>\n",
       "      <th>0</th>\n",
       "      <td>2021</td>\n",
       "      <td>17</td>\n",
       "      <td>7</td>\n",
       "      <td>0</td>\n",
       "      <td>4</td>\n",
       "      <td>16</td>\n",
       "      <td>17</td>\n",
       "      <td>61</td>\n",
       "      <td>38</td>\n",
       "    </tr>\n",
       "    <tr>\n",
       "      <th>1</th>\n",
       "      <td>2020</td>\n",
       "      <td>5</td>\n",
       "      <td>3</td>\n",
       "      <td>1</td>\n",
       "      <td>3</td>\n",
       "      <td>9</td>\n",
       "      <td>13</td>\n",
       "      <td>34</td>\n",
       "      <td>23</td>\n",
       "    </tr>\n",
       "  </tbody>\n",
       "</table>\n",
       "</div>"
      ],
      "text/plain": [
       "   YEAR  WARNER BROS  WALT DISNEY  20TH CENTURY FOX  PARAMOUNT PICTURES  \\\n",
       "0  2021           17            7                 0                   4   \n",
       "1  2020            5            3                 1                   3   \n",
       "\n",
       "   SONY PICTURES  UNIVERSAL  TOTAL MAJOR 6  TOTAL OTHER STUDIOS  \n",
       "0             16         17             61                   38  \n",
       "1              9         13             34                   23  "
      ]
     },
     "metadata": {},
     "output_type": "display_data"
    },
    {
     "name": "stdout",
     "output_type": "stream",
     "text": [
      "────────────────────────────────────────────────────────────────────────────────────────────────────\n"
     ]
    }
   ],
   "source": [
    "for i in range(9):\n",
    "    print('File #', i+1, ':', file_name[i])\n",
    "    display(files[i].head(2))\n",
    "    print('─' * 100)"
   ]
  },
  {
   "cell_type": "markdown",
   "id": "e96240df-93e4-4103-ba35-c95d30cf541e",
   "metadata": {},
   "source": [
    "# Data cleanup"
   ]
  },
  {
   "cell_type": "code",
   "execution_count": 28,
   "id": "22c4272a-0f94-4e7b-8668-34ba9c9c0fd5",
   "metadata": {},
   "outputs": [],
   "source": [
    "# File #1: Annual Ticket Sales\n",
    "TicketSales = TicketSales.dropna(axis=1, how='all')\n",
    "\n",
    "TicketSales['TICKETS SOLD'] = TicketSales['TICKETS SOLD'].apply(lambda x: x.replace('$','').replace(',','')).astype(int)\n",
    "TicketSales['TOTAL BOX OFFICE'] = TicketSales['TOTAL BOX OFFICE'].apply(lambda x: x.replace('$','').replace(',',''))\n",
    "TicketSales['TOTAL INFLATION ADJUSTED BOX OFFICE'] = TicketSales['TOTAL INFLATION ADJUSTED BOX OFFICE'].apply(lambda x: x.replace('$','').replace(',',''))\n",
    "TicketSales['AVERAGE TICKET PRICE'] = TicketSales['AVERAGE TICKET PRICE'].apply(lambda x: x.replace('$','').replace(',',''))\n",
    "\n",
    "TicketSales = TicketSales.astype({\"TOTAL BOX OFFICE\":'int64', \"TOTAL INFLATION ADJUSTED BOX OFFICE\":'int64',\n",
    "                                 \"AVERAGE TICKET PRICE\":'float'})"
   ]
  },
  {
   "cell_type": "code",
   "execution_count": 149,
   "id": "e2bd8ac2-5dfb-498c-be2d-da06568db5a6",
   "metadata": {},
   "outputs": [],
   "source": [
    "# File #2: Highest Grossers\n",
    "HighestGross['TOTAL FOR YEAR'] = HighestGross['TOTAL FOR YEAR'].apply(lambda x: x.replace('$','').replace(',',''))\n",
    "HighestGross['TOTAL IN 2019 DOLLARS'] = HighestGross['TOTAL IN 2019 DOLLARS'].apply(lambda x: x.replace('$','').replace(',',''))\n",
    "HighestGross['TICKETS SOLD'] = HighestGross['TICKETS SOLD'].apply(lambda x: x.replace(',',''))\n",
    "HighestGross = HighestGross.astype({\"TOTAL FOR YEAR\":'int64', \"TOTAL IN 2019 DOLLARS\":'int64',\n",
    "                                 \"TICKETS SOLD\":'int64'})"
   ]
  },
  {
   "cell_type": "code",
   "execution_count": 69,
   "id": "d2a9e27f-4261-433b-bee0-5b57d1d58b15",
   "metadata": {},
   "outputs": [],
   "source": [
    "# File #3: Popular Creative Types\n",
    "PopularCreative['RANK'] = PopularCreative['RANK'].apply(lambda x: x.split('.')[0])\n",
    "PopularCreative['MOVIES'] = PopularCreative['MOVIES'].apply(lambda x: x.replace(',',''))\n",
    "PopularCreative['TOTAL GROSS'] = PopularCreative['TOTAL GROSS'].apply(lambda x: x.replace('$','').replace(',',''))\n",
    "PopularCreative['AVERAGE GROSS'] = PopularCreative['AVERAGE GROSS'].apply(lambda x: x.replace('$','').replace(',',''))\n",
    "\n",
    "PopularCreative.rename(columns = {'MARKET SHARE':'MARKET SHARE (%)',}, inplace = True)\n",
    "PopularCreative['MARKET SHARE (%)'] = PopularCreative['MARKET SHARE (%)'].apply(lambda x: x.replace('%',''))"
   ]
  },
  {
   "cell_type": "code",
   "execution_count": 86,
   "id": "7a22082d-ec34-4e8c-a3ce-9bafe9474481",
   "metadata": {},
   "outputs": [],
   "source": [
    "nan_value = float(\"NaN\")\n",
    "PopularCreative.replace(\"\", nan_value, inplace=True)\n",
    "PopularCreative.dropna(subset = [\"CREATIVE TYPES\"], inplace=True)"
   ]
  },
  {
   "cell_type": "code",
   "execution_count": 88,
   "id": "b1c52565-b7e7-4564-b4a4-6ba3912403d2",
   "metadata": {},
   "outputs": [],
   "source": [
    "PopularCreative = PopularCreative.astype({\"RANK\":'int', \"MOVIES\":'int', \"TOTAL GROSS\":'int64', \n",
    "                                 \"AVERAGE GROSS\":'int64', \"MARKET SHARE (%)\":'float'})"
   ]
  },
  {
   "cell_type": "code",
   "execution_count": 99,
   "id": "57555cb0-0ab1-4214-b56b-a89cfcd4e28a",
   "metadata": {},
   "outputs": [],
   "source": [
    "# File #4: Top Distributors\n",
    "TopDistr['TOTAL GROSS'] = TopDistr['TOTAL GROSS'].apply(lambda x: x.replace('$','').replace(',',''))\n",
    "TopDistr['AVERAGE GROSS'] = TopDistr['AVERAGE GROSS'].apply(lambda x: x.replace('$','').replace(',',''))\n",
    "TopDistr['MARKET SHARE'] = TopDistr['MARKET SHARE'].apply(lambda x: x.replace('%',''))\n",
    "\n",
    "TopDistr.rename(columns = {'MARKET SHARE':'MARKET SHARE (%)',}, inplace = True)\n",
    "\n",
    "TopDistr = TopDistr.astype({\"TOTAL GROSS\":'int64', \"AVERAGE GROSS\":'int64', \"MARKET SHARE (%)\":'float'})"
   ]
  },
  {
   "cell_type": "code",
   "execution_count": 106,
   "id": "ae28fdd7-b0c8-4514-a14e-0bab99d7d3d9",
   "metadata": {},
   "outputs": [],
   "source": [
    "# File #5: Top Genres\n",
    "TopGenre['MOVIES'] = TopGenre['MOVIES'].apply(lambda x: x.replace(',',''))\n",
    "TopGenre['TOTAL GROSS'] = TopGenre['TOTAL GROSS'].apply(lambda x: x.replace('$','').replace(',',''))\n",
    "TopGenre['AVERAGE GROSS'] = TopGenre['AVERAGE GROSS'].apply(lambda x: x.replace('$','').replace(',',''))\n",
    "TopGenre['MARKET SHARE'] = TopGenre['MARKET SHARE'].apply(lambda x: x.replace('%',''))\n",
    "\n",
    "TopGenre.rename(columns = {'MARKET SHARE':'MARKET SHARE (%)',}, inplace = True)\n",
    "\n",
    "TopGenre = TopGenre.astype({\"MOVIES\":'int', \"TOTAL GROSS\":'int64', \"AVERAGE GROSS\":'int64', \"MARKET SHARE (%)\":'float'})"
   ]
  },
  {
   "cell_type": "code",
   "execution_count": 112,
   "id": "ea4763a2-79f1-4968-a103-2b0050f369e3",
   "metadata": {},
   "outputs": [],
   "source": [
    "# File #6: Top Grossing Ratings\n",
    "TopGrossRate['MOVIES'] = TopGrossRate['MOVIES'].apply(lambda x: x.replace(',',''))\n",
    "TopGrossRate['TOTAL GROSS'] = TopGrossRate['TOTAL GROSS'].apply(lambda x: x.replace('$','').replace(',',''))\n",
    "TopGrossRate['AVERAGE GROSS'] = TopGrossRate['AVERAGE GROSS'].apply(lambda x: x.replace('$','').replace(',',''))\n",
    "TopGrossRate['MARKET SHARE'] = TopGrossRate['MARKET SHARE'].apply(lambda x: x.replace('%',''))\n",
    "\n",
    "TopGrossRate.rename(columns = {'MARKET SHARE':'MARKET SHARE (%)',}, inplace = True)\n",
    "\n",
    "TopGrossRate = TopGrossRate.astype({\"MOVIES\":'int', \"TOTAL GROSS\":'int64', \"AVERAGE GROSS\":'int64', \"MARKET SHARE (%)\":'float'})"
   ]
  },
  {
   "cell_type": "code",
   "execution_count": 118,
   "id": "64b856b2-188d-4e4f-8082-280ce27f2f33",
   "metadata": {},
   "outputs": [],
   "source": [
    "# File #7: Top Grossing Sources\n",
    "TopGrossSrc['MOVIES'] = TopGrossSrc['MOVIES'].apply(lambda x: x.replace(',',''))\n",
    "TopGrossSrc['TOTAL GROSS'] = TopGrossSrc['TOTAL GROSS'].apply(lambda x: x.replace('$','').replace(',',''))\n",
    "TopGrossSrc['AVERAGE GROSS'] = TopGrossSrc['AVERAGE GROSS'].apply(lambda x: x.replace('$','').replace(',',''))\n",
    "TopGrossSrc['MARKET SHARE'] = TopGrossSrc['MARKET SHARE'].apply(lambda x: x.replace('%',''))\n",
    "\n",
    "TopGrossSrc.rename(columns = {'MARKET SHARE':'MARKET SHARE (%)',}, inplace = True)\n",
    "\n",
    "TopGrossSrc = TopGrossSrc.astype({\"MOVIES\":'int', \"TOTAL GROSS\":'int64', \"AVERAGE GROSS\":'int64', \"MARKET SHARE (%)\":'float'})"
   ]
  },
  {
   "cell_type": "code",
   "execution_count": 123,
   "id": "21326979-d370-4cbf-855a-5a0899bac988",
   "metadata": {},
   "outputs": [],
   "source": [
    "# File #8: Top Production Methods\n",
    "TopProdMethod['MOVIES'] = TopProdMethod['MOVIES'].apply(lambda x: x.replace(',',''))\n",
    "TopProdMethod['TOTAL GROSS'] = TopProdMethod['TOTAL GROSS'].apply(lambda x: x.replace('$','').replace(',',''))\n",
    "TopProdMethod['AVERAGE GROSS'] = TopProdMethod['AVERAGE GROSS'].apply(lambda x: x.replace('$','').replace(',',''))\n",
    "TopProdMethod['MARKET SHARE'] = TopProdMethod['MARKET SHARE'].apply(lambda x: x.replace('%',''))\n",
    "\n",
    "TopProdMethod.rename(columns = {'MARKET SHARE':'MARKET SHARE (%)',}, inplace = True)\n",
    "\n",
    "TopProdMethod = TopProdMethod.astype({\"MOVIES\":'int', \"TOTAL GROSS\":'int64', \"AVERAGE GROSS\":'int64', \"MARKET SHARE (%)\":'float'})"
   ]
  },
  {
   "cell_type": "code",
   "execution_count": 131,
   "id": "a76522e9-35d0-4b18-8e42-5d1998cd2e6c",
   "metadata": {},
   "outputs": [],
   "source": [
    "# File #9: Wide Releases \n",
    "WideRelease = WideRelease.dropna(axis=1, how='all')"
   ]
  },
  {
   "cell_type": "code",
   "execution_count": 145,
   "id": "8e56d6e2-37ab-448d-bc42-cef556e2fbb5",
   "metadata": {},
   "outputs": [],
   "source": [
    "# Overwriting data cleaned to files\n",
    "TicketSales.to_csv ('AnnualTicketSales.csv', index = False, header=True)\n",
    "HighestGross.to_csv ('HighestGrossers.csv', index = False, header=True)\n",
    "PopularCreative.to_csv ('PopularCreativeTypes.csv', index = False, header=True)\n",
    "TopDistr.to_csv ('TopDistributors.csv', index = False, header=True)\n",
    "TopGenre.to_csv ('TopGenres.csv', index = False, header=True)\n",
    "TopGrossRate.to_csv ('TopGrossingRatings.csv', index = False, header=True)\n",
    "TopGrossSrc.to_csv ('TopGrossingSources.csv', index = False, header=True)\n",
    "TopProdMethod.to_csv ('TopProductionMethods.csv', index = False, header=True)\n",
    "WideRelease.to_csv ('WideReleasesCount.csv', index = False, header=True)"
   ]
  },
  {
   "cell_type": "code",
   "execution_count": null,
   "id": "91de3837-1e76-47fe-b222-e5e5188dd5c7",
   "metadata": {},
   "outputs": [],
   "source": []
  },
  {
   "cell_type": "code",
   "execution_count": null,
   "id": "7fc4a8fb-7b58-497f-9bcd-7eb5b18f5ff0",
   "metadata": {},
   "outputs": [],
   "source": []
  },
  {
   "cell_type": "code",
   "execution_count": null,
   "id": "c970ed9d-7764-46fc-affb-f211760a3df6",
   "metadata": {},
   "outputs": [],
   "source": []
  },
  {
   "cell_type": "code",
   "execution_count": null,
   "id": "bee78f7e-3574-48b6-af55-bbddaed99e9e",
   "metadata": {},
   "outputs": [],
   "source": []
  },
  {
   "cell_type": "code",
   "execution_count": null,
   "id": "f22a46de-3d5e-4002-b427-5a8fb7a02719",
   "metadata": {},
   "outputs": [],
   "source": []
  },
  {
   "cell_type": "code",
   "execution_count": null,
   "id": "f474b15b-76d0-4b13-8ee1-dba159870a50",
   "metadata": {},
   "outputs": [],
   "source": []
  },
  {
   "cell_type": "code",
   "execution_count": null,
   "id": "a5c517d5-94d4-4a9f-8e41-09638dd3fe59",
   "metadata": {},
   "outputs": [],
   "source": []
  },
  {
   "cell_type": "code",
   "execution_count": null,
   "id": "0c378833-da58-418d-af38-35ad59c6b59d",
   "metadata": {},
   "outputs": [],
   "source": []
  },
  {
   "cell_type": "code",
   "execution_count": null,
   "id": "d825f380-e2e3-4a84-a856-980b06ac070e",
   "metadata": {},
   "outputs": [],
   "source": []
  },
  {
   "cell_type": "code",
   "execution_count": null,
   "id": "2309dced-74f4-464e-b539-dc7e36421246",
   "metadata": {},
   "outputs": [],
   "source": []
  }
 ],
 "metadata": {
  "kernelspec": {
   "display_name": "Python 3",
   "language": "python",
   "name": "python3"
  },
  "language_info": {
   "codemirror_mode": {
    "name": "ipython",
    "version": 3
   },
   "file_extension": ".py",
   "mimetype": "text/x-python",
   "name": "python",
   "nbconvert_exporter": "python",
   "pygments_lexer": "ipython3",
   "version": "3.8.8"
  }
 },
 "nbformat": 4,
 "nbformat_minor": 5
}
